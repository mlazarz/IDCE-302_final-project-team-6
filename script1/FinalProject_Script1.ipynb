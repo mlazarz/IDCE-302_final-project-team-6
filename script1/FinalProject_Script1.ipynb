{
  "nbformat": 4,
  "nbformat_minor": 0,
  "metadata": {
    "colab": {
      "name": "FinalProject_Script1",
      "provenance": [],
      "collapsed_sections": []
    },
    "kernelspec": {
      "name": "python3",
      "display_name": "Python 3"
    }
  },
  "cells": [
    {
      "cell_type": "code",
      "metadata": {
        "id": "EBdK0rWTRK5K",
        "outputId": "a2a849b5-06c8-4c3e-a7ab-444025189fda",
        "colab": {
          "base_uri": "https://localhost:8080/",
          "height": 204
        }
      },
      "source": [
        "'''\n",
        "Author:  Mitchell Lazarz\n",
        "Creation Date:  24 September 2020\n",
        "Version:  Python 3--Google Colab--Jupytor Notebook\n",
        "Description:  This code webscrapes the National Weather Service website\n",
        "for the 5 day forecast for a given location.  The user is asked to input\n",
        "a latitude and longitude for an area of interest and a presentable output \n",
        "of the 5 day forecast is printed.\n",
        "'''\n",
        "\n",
        "# import required libraries\n",
        "import requests\n",
        "from bs4 import BeautifulSoup\n",
        "\n",
        "# Create an empty list to store response\n",
        "forecast = []\n",
        "\n",
        "## Provide the latitude and longitude for the location you would like to check the forecast for\n",
        "## Lat/lon in decimal degrees provided for Worcester, MA\n",
        "# lat = '42.2634'  # Worcester, MA latitude\n",
        "# lon = '-71.8022' # Worcester, MA longitude\n",
        "lat = str(input(\"Input Latitude:\"))\n",
        "lon = str(input(\"Input Longitude:\"))\n",
        "\n",
        "# Create url for the requested location through string concatenation\n",
        "url = 'https://forecast.weather.gov/MapClick.php?lat='+lat+\"&lon=\"+lon\n",
        "\n",
        "# Send request to retrieve the web-page using the get() function from the requests library\n",
        "# The page variable stores the response from the web-page\n",
        "page = requests.get(url)\n",
        "\n",
        "# Create a BeautifulSoup object with the response from the URL\n",
        "# Access contents of the web-page using .content\n",
        "# html_parser is used since our page is in HTML format\n",
        "soup=BeautifulSoup(page.content,\"html.parser\")\n",
        "\n",
        "# Locate elements on page to be scraped\n",
        "# findAll() locates all occurrences of div tag with the given class name\n",
        "# stores it in the BeautifulSoup object\n",
        "weather_forecast = soup.findAll(\"li\", {\"class\": \"forecast-tombstone\"})\n",
        "\n",
        "# Loop through the BeautifulSoup object to extract text from every class instance using .text\n",
        "# Store results in a list\n",
        "for i in weather_forecast:\n",
        "    i = i.text\n",
        "    forecast.append(i)\n",
        "\n",
        "# Loop through forecast list of days, removing new lines and adding commas, colons, and spaces for cleaner display\n",
        "for day in forecast:\n",
        "  day = day.replace('\\n\\n','')\n",
        "  day = day.replace('\\n',':')\n",
        "  day = day.replace(' ', '')\n",
        "  day = day.replace(':',': ')\n",
        "  day = day.replace(\"High\", \", High\")\n",
        "  day = day.replace(\"Low\", \", Low\")\n",
        "  day = day.replace(\"then\", \" then \")\n",
        "  day = day.replace(\"and\", \"and \")\n",
        "  day = day.replace(\"This\", \"This \")\n",
        "  day = day.replace(\"Showers\", \"Showers \")\n",
        "  day = day.replace(\"Cloudy\", \"Cloudy \")\n",
        "  day = day.replace(\"Chance\", \"Chance \")\n",
        "  day = day.replace(\"Rain\", \"Rain \")\n",
        "  day = day.replace(\"Fog\", \"Fog \")\n",
        "  day = day.replace(\"Night\", \" Night\")\n",
        "  day = day.replace(\"Mostly\", \"Mostly \")\n",
        "  day = day.replace(\"Partly\", \"Partly \")\n",
        "  day = day.replace(\"Patchy\", \"Patchy \")\n",
        "  day = day.replace(\"Slight\", \"Slight \")\n",
        "  day = day.replace('  ', ' ')\n",
        "  day = day.replace(' ,', ',')\n",
        "\n",
        "  # Print all days in uppercase\n",
        "  print(day.upper())\n"
      ],
      "execution_count": 7,
      "outputs": [
        {
          "output_type": "stream",
          "text": [
            "Input Latitude:42.2634\n",
            "Input Longitude:-71.8022\n",
            "THIS AFTERNOON: MOSTLY SUNNY, HIGH: 64°F\n",
            "TONIGHT: MOSTLY CLEAR, LOW: 43°F\n",
            "SUNDAY: SUNNY, HIGH: 64°F\n",
            "SUNDAY NIGHT: MOSTLY CLOUDY THEN CHANCE SHOWERS, LOW: 48°F\n",
            "MONDAY: CHANCE SHOWERS, HIGH: 60°F\n",
            "MONDAY NIGHT: MOSTLY CLEAR, LOW: 45°F\n",
            "TUESDAY: SUNNY, HIGH: 65°F\n",
            "TUESDAY NIGHT: PARTLY CLOUDY, LOW: 50°F\n",
            "WEDNESDAY: MOSTLY SUNNY THEN CHANCE SHOWERS, HIGH: 68°F\n"
          ],
          "name": "stdout"
        }
      ]
    }
  ]
}